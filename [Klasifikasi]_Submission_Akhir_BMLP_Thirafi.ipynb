{
  "nbformat": 4,
  "nbformat_minor": 0,
  "metadata": {
    "colab": {
      "provenance": []
    },
    "kernelspec": {
      "name": "python3",
      "display_name": "Python 3"
    },
    "language_info": {
      "name": "python"
    }
  },
  "cells": [
    {
      "cell_type": "markdown",
      "source": [
        "# **1. Import Library**"
      ],
      "metadata": {
        "id": "fKADPWcFKlj3"
      }
    },
    {
      "cell_type": "markdown",
      "source": [
        "Pada tahap ini, Anda perlu mengimpor beberapa pustaka (library) Python yang dibutuhkan untuk analisis data dan pembangunan model machine learning."
      ],
      "metadata": {
        "id": "LgA3ERnVn84N"
      }
    },
    {
      "cell_type": "code",
      "source": [
        "# Library untuk data manipulasi\n",
        "import pandas as pd\n",
        "import numpy as np\n",
        "\n",
        "# Library untuk data visualisasi\n",
        "import matplotlib.pyplot as plt\n",
        "import seaborn as sns\n",
        "\n",
        "# Library untuk preprocessing dan machine learning\n",
        "from sklearn.model_selection import train_test_split\n",
        "from sklearn.preprocessing import LabelEncoder, StandardScaler, MinMaxScaler\n",
        "from sklearn.neighbors import KNeighborsClassifier\n",
        "from sklearn.tree import DecisionTreeClassifier\n",
        "from sklearn.ensemble import RandomForestClassifier\n",
        "\n",
        "\n",
        "# Library untuk evaluasi machine learning\n",
        "from sklearn.metrics import confusion_matrix, accuracy_score, precision_score, recall_score, f1_score\n",
        "from sklearn.metrics import classification_report, confusion_matrix"
      ],
      "metadata": {
        "id": "BlmvjLY9M4Yj"
      },
      "execution_count": 1,
      "outputs": []
    },
    {
      "cell_type": "markdown",
      "source": [
        "# **2. Memuat Dataset dari Hasil Clustering**"
      ],
      "metadata": {
        "id": "f3YIEnAFKrKL"
      }
    },
    {
      "cell_type": "markdown",
      "source": [
        "Memuat dataset hasil clustering dari file CSV ke dalam variabel DataFrame."
      ],
      "metadata": {
        "id": "Ey3ItwTen_7E"
      }
    },
    {
      "cell_type": "code",
      "source": [
        "dataset_df = pd.read_csv(\"https://raw.githubusercontent.com/ThirafiQaedi/dicoding_BMLP_final/refs/heads/main/Dataset_clustering.csv\")\n",
        "#info dataset\n",
        "print(\"Informasi Dataset:\")\n",
        "print(dataset_df.info())\n",
        "\n",
        "print(\"\\nDataset data awal:\")\n",
        "dataset_df.head()"
      ],
      "metadata": {
        "id": "GHCGNTyrM5fS",
        "colab": {
          "base_uri": "https://localhost:8080/",
          "height": 863
        },
        "outputId": "b6c3bd7d-c022-4270-c91c-800f592388a2"
      },
      "execution_count": 2,
      "outputs": [
        {
          "output_type": "stream",
          "name": "stdout",
          "text": [
            "Informasi Dataset:\n",
            "<class 'pandas.core.frame.DataFrame'>\n",
            "RangeIndex: 2512 entries, 0 to 2511\n",
            "Data columns (total 23 columns):\n",
            " #   Column                       Non-Null Count  Dtype  \n",
            "---  ------                       --------------  -----  \n",
            " 0   TransactionID                2512 non-null   object \n",
            " 1   AccountID                    2512 non-null   object \n",
            " 2   TransactionAmount            2512 non-null   float64\n",
            " 3   Location                     2512 non-null   object \n",
            " 4   DeviceID                     2512 non-null   object \n",
            " 5   IP Address                   2512 non-null   object \n",
            " 6   MerchantID                   2512 non-null   object \n",
            " 7   CustomerAge                  2512 non-null   float64\n",
            " 8   TransactionDuration          2512 non-null   float64\n",
            " 9   LoginAttempts                2512 non-null   float64\n",
            " 10  AccountBalance               2512 non-null   float64\n",
            " 11  DayOfWeek                    2512 non-null   int64  \n",
            " 12  Hour                         2512 non-null   int64  \n",
            " 13  Month                        2512 non-null   int64  \n",
            " 14  DaysSinceLastTransaction     2512 non-null   int64  \n",
            " 15  TransactionType_Debit        2512 non-null   bool   \n",
            " 16  Channel_Branch               2512 non-null   bool   \n",
            " 17  Channel_Online               2512 non-null   bool   \n",
            " 18  CustomerOccupation_Engineer  2512 non-null   bool   \n",
            " 19  CustomerOccupation_Retired   2512 non-null   bool   \n",
            " 20  CustomerOccupation_Student   2512 non-null   bool   \n",
            " 21  Cluster                      2512 non-null   int64  \n",
            " 22  Cluster_PCA                  2512 non-null   int64  \n",
            "dtypes: bool(6), float64(5), int64(6), object(6)\n",
            "memory usage: 348.5+ KB\n",
            "None\n",
            "\n",
            "Dataset data awal:\n"
          ]
        },
        {
          "output_type": "execute_result",
          "data": {
            "text/plain": [
              "  TransactionID AccountID  TransactionAmount   Location DeviceID  \\\n",
              "0      TX000001   AC00128          -0.971275  San Diego  D000380   \n",
              "1      TX000002   AC00455           0.269440    Houston  D000051   \n",
              "2      TX000003   AC00019          -0.586882       Mesa  D000235   \n",
              "3      TX000004   AC00070          -0.387456    Raleigh  D000187   \n",
              "4      TX000005   AC00411          -0.973468    Atlanta  D000308   \n",
              "\n",
              "       IP Address MerchantID  CustomerAge  TransactionDuration  LoginAttempts  \\\n",
              "0  162.198.218.92       M015     1.423718            -0.552443      -0.206794   \n",
              "1     13.149.61.4       M052     1.311287             0.305314      -0.206794   \n",
              "2  215.97.143.157       M009    -1.443277            -0.909842      -0.206794   \n",
              "3  200.13.225.150       M002    -1.049768            -1.353017      -0.206794   \n",
              "4    65.164.3.100       M091    -1.049768             1.120184      -0.206794   \n",
              "\n",
              "   ...  Month  DaysSinceLastTransaction  TransactionType_Debit  \\\n",
              "0  ...      4                      -573                   True   \n",
              "1  ...      6                      -496                   True   \n",
              "2  ...      7                      -483                   True   \n",
              "3  ...      5                      -549                   True   \n",
              "4  ...     10                      -385                  False   \n",
              "\n",
              "   Channel_Branch  Channel_Online  CustomerOccupation_Engineer  \\\n",
              "0           False           False                        False   \n",
              "1           False           False                        False   \n",
              "2           False            True                        False   \n",
              "3           False            True                        False   \n",
              "4           False            True                        False   \n",
              "\n",
              "   CustomerOccupation_Retired  CustomerOccupation_Student  Cluster  \\\n",
              "0                       False                       False        1   \n",
              "1                       False                       False        1   \n",
              "2                       False                        True        1   \n",
              "3                       False                        True        1   \n",
              "4                       False                        True        0   \n",
              "\n",
              "   Cluster_PCA  \n",
              "0            1  \n",
              "1            1  \n",
              "2            1  \n",
              "3            1  \n",
              "4            1  \n",
              "\n",
              "[5 rows x 23 columns]"
            ],
            "text/html": [
              "\n",
              "  <div id=\"df-5261c1ca-7862-4ef3-87a8-b5e8519765ca\" class=\"colab-df-container\">\n",
              "    <div>\n",
              "<style scoped>\n",
              "    .dataframe tbody tr th:only-of-type {\n",
              "        vertical-align: middle;\n",
              "    }\n",
              "\n",
              "    .dataframe tbody tr th {\n",
              "        vertical-align: top;\n",
              "    }\n",
              "\n",
              "    .dataframe thead th {\n",
              "        text-align: right;\n",
              "    }\n",
              "</style>\n",
              "<table border=\"1\" class=\"dataframe\">\n",
              "  <thead>\n",
              "    <tr style=\"text-align: right;\">\n",
              "      <th></th>\n",
              "      <th>TransactionID</th>\n",
              "      <th>AccountID</th>\n",
              "      <th>TransactionAmount</th>\n",
              "      <th>Location</th>\n",
              "      <th>DeviceID</th>\n",
              "      <th>IP Address</th>\n",
              "      <th>MerchantID</th>\n",
              "      <th>CustomerAge</th>\n",
              "      <th>TransactionDuration</th>\n",
              "      <th>LoginAttempts</th>\n",
              "      <th>...</th>\n",
              "      <th>Month</th>\n",
              "      <th>DaysSinceLastTransaction</th>\n",
              "      <th>TransactionType_Debit</th>\n",
              "      <th>Channel_Branch</th>\n",
              "      <th>Channel_Online</th>\n",
              "      <th>CustomerOccupation_Engineer</th>\n",
              "      <th>CustomerOccupation_Retired</th>\n",
              "      <th>CustomerOccupation_Student</th>\n",
              "      <th>Cluster</th>\n",
              "      <th>Cluster_PCA</th>\n",
              "    </tr>\n",
              "  </thead>\n",
              "  <tbody>\n",
              "    <tr>\n",
              "      <th>0</th>\n",
              "      <td>TX000001</td>\n",
              "      <td>AC00128</td>\n",
              "      <td>-0.971275</td>\n",
              "      <td>San Diego</td>\n",
              "      <td>D000380</td>\n",
              "      <td>162.198.218.92</td>\n",
              "      <td>M015</td>\n",
              "      <td>1.423718</td>\n",
              "      <td>-0.552443</td>\n",
              "      <td>-0.206794</td>\n",
              "      <td>...</td>\n",
              "      <td>4</td>\n",
              "      <td>-573</td>\n",
              "      <td>True</td>\n",
              "      <td>False</td>\n",
              "      <td>False</td>\n",
              "      <td>False</td>\n",
              "      <td>False</td>\n",
              "      <td>False</td>\n",
              "      <td>1</td>\n",
              "      <td>1</td>\n",
              "    </tr>\n",
              "    <tr>\n",
              "      <th>1</th>\n",
              "      <td>TX000002</td>\n",
              "      <td>AC00455</td>\n",
              "      <td>0.269440</td>\n",
              "      <td>Houston</td>\n",
              "      <td>D000051</td>\n",
              "      <td>13.149.61.4</td>\n",
              "      <td>M052</td>\n",
              "      <td>1.311287</td>\n",
              "      <td>0.305314</td>\n",
              "      <td>-0.206794</td>\n",
              "      <td>...</td>\n",
              "      <td>6</td>\n",
              "      <td>-496</td>\n",
              "      <td>True</td>\n",
              "      <td>False</td>\n",
              "      <td>False</td>\n",
              "      <td>False</td>\n",
              "      <td>False</td>\n",
              "      <td>False</td>\n",
              "      <td>1</td>\n",
              "      <td>1</td>\n",
              "    </tr>\n",
              "    <tr>\n",
              "      <th>2</th>\n",
              "      <td>TX000003</td>\n",
              "      <td>AC00019</td>\n",
              "      <td>-0.586882</td>\n",
              "      <td>Mesa</td>\n",
              "      <td>D000235</td>\n",
              "      <td>215.97.143.157</td>\n",
              "      <td>M009</td>\n",
              "      <td>-1.443277</td>\n",
              "      <td>-0.909842</td>\n",
              "      <td>-0.206794</td>\n",
              "      <td>...</td>\n",
              "      <td>7</td>\n",
              "      <td>-483</td>\n",
              "      <td>True</td>\n",
              "      <td>False</td>\n",
              "      <td>True</td>\n",
              "      <td>False</td>\n",
              "      <td>False</td>\n",
              "      <td>True</td>\n",
              "      <td>1</td>\n",
              "      <td>1</td>\n",
              "    </tr>\n",
              "    <tr>\n",
              "      <th>3</th>\n",
              "      <td>TX000004</td>\n",
              "      <td>AC00070</td>\n",
              "      <td>-0.387456</td>\n",
              "      <td>Raleigh</td>\n",
              "      <td>D000187</td>\n",
              "      <td>200.13.225.150</td>\n",
              "      <td>M002</td>\n",
              "      <td>-1.049768</td>\n",
              "      <td>-1.353017</td>\n",
              "      <td>-0.206794</td>\n",
              "      <td>...</td>\n",
              "      <td>5</td>\n",
              "      <td>-549</td>\n",
              "      <td>True</td>\n",
              "      <td>False</td>\n",
              "      <td>True</td>\n",
              "      <td>False</td>\n",
              "      <td>False</td>\n",
              "      <td>True</td>\n",
              "      <td>1</td>\n",
              "      <td>1</td>\n",
              "    </tr>\n",
              "    <tr>\n",
              "      <th>4</th>\n",
              "      <td>TX000005</td>\n",
              "      <td>AC00411</td>\n",
              "      <td>-0.973468</td>\n",
              "      <td>Atlanta</td>\n",
              "      <td>D000308</td>\n",
              "      <td>65.164.3.100</td>\n",
              "      <td>M091</td>\n",
              "      <td>-1.049768</td>\n",
              "      <td>1.120184</td>\n",
              "      <td>-0.206794</td>\n",
              "      <td>...</td>\n",
              "      <td>10</td>\n",
              "      <td>-385</td>\n",
              "      <td>False</td>\n",
              "      <td>False</td>\n",
              "      <td>True</td>\n",
              "      <td>False</td>\n",
              "      <td>False</td>\n",
              "      <td>True</td>\n",
              "      <td>0</td>\n",
              "      <td>1</td>\n",
              "    </tr>\n",
              "  </tbody>\n",
              "</table>\n",
              "<p>5 rows × 23 columns</p>\n",
              "</div>\n",
              "    <div class=\"colab-df-buttons\">\n",
              "\n",
              "  <div class=\"colab-df-container\">\n",
              "    <button class=\"colab-df-convert\" onclick=\"convertToInteractive('df-5261c1ca-7862-4ef3-87a8-b5e8519765ca')\"\n",
              "            title=\"Convert this dataframe to an interactive table.\"\n",
              "            style=\"display:none;\">\n",
              "\n",
              "  <svg xmlns=\"http://www.w3.org/2000/svg\" height=\"24px\" viewBox=\"0 -960 960 960\">\n",
              "    <path d=\"M120-120v-720h720v720H120Zm60-500h600v-160H180v160Zm220 220h160v-160H400v160Zm0 220h160v-160H400v160ZM180-400h160v-160H180v160Zm440 0h160v-160H620v160ZM180-180h160v-160H180v160Zm440 0h160v-160H620v160Z\"/>\n",
              "  </svg>\n",
              "    </button>\n",
              "\n",
              "  <style>\n",
              "    .colab-df-container {\n",
              "      display:flex;\n",
              "      gap: 12px;\n",
              "    }\n",
              "\n",
              "    .colab-df-convert {\n",
              "      background-color: #E8F0FE;\n",
              "      border: none;\n",
              "      border-radius: 50%;\n",
              "      cursor: pointer;\n",
              "      display: none;\n",
              "      fill: #1967D2;\n",
              "      height: 32px;\n",
              "      padding: 0 0 0 0;\n",
              "      width: 32px;\n",
              "    }\n",
              "\n",
              "    .colab-df-convert:hover {\n",
              "      background-color: #E2EBFA;\n",
              "      box-shadow: 0px 1px 2px rgba(60, 64, 67, 0.3), 0px 1px 3px 1px rgba(60, 64, 67, 0.15);\n",
              "      fill: #174EA6;\n",
              "    }\n",
              "\n",
              "    .colab-df-buttons div {\n",
              "      margin-bottom: 4px;\n",
              "    }\n",
              "\n",
              "    [theme=dark] .colab-df-convert {\n",
              "      background-color: #3B4455;\n",
              "      fill: #D2E3FC;\n",
              "    }\n",
              "\n",
              "    [theme=dark] .colab-df-convert:hover {\n",
              "      background-color: #434B5C;\n",
              "      box-shadow: 0px 1px 3px 1px rgba(0, 0, 0, 0.15);\n",
              "      filter: drop-shadow(0px 1px 2px rgba(0, 0, 0, 0.3));\n",
              "      fill: #FFFFFF;\n",
              "    }\n",
              "  </style>\n",
              "\n",
              "    <script>\n",
              "      const buttonEl =\n",
              "        document.querySelector('#df-5261c1ca-7862-4ef3-87a8-b5e8519765ca button.colab-df-convert');\n",
              "      buttonEl.style.display =\n",
              "        google.colab.kernel.accessAllowed ? 'block' : 'none';\n",
              "\n",
              "      async function convertToInteractive(key) {\n",
              "        const element = document.querySelector('#df-5261c1ca-7862-4ef3-87a8-b5e8519765ca');\n",
              "        const dataTable =\n",
              "          await google.colab.kernel.invokeFunction('convertToInteractive',\n",
              "                                                    [key], {});\n",
              "        if (!dataTable) return;\n",
              "\n",
              "        const docLinkHtml = 'Like what you see? Visit the ' +\n",
              "          '<a target=\"_blank\" href=https://colab.research.google.com/notebooks/data_table.ipynb>data table notebook</a>'\n",
              "          + ' to learn more about interactive tables.';\n",
              "        element.innerHTML = '';\n",
              "        dataTable['output_type'] = 'display_data';\n",
              "        await google.colab.output.renderOutput(dataTable, element);\n",
              "        const docLink = document.createElement('div');\n",
              "        docLink.innerHTML = docLinkHtml;\n",
              "        element.appendChild(docLink);\n",
              "      }\n",
              "    </script>\n",
              "  </div>\n",
              "\n",
              "\n",
              "<div id=\"df-d036b2f8-1076-4e38-896b-8803b7524983\">\n",
              "  <button class=\"colab-df-quickchart\" onclick=\"quickchart('df-d036b2f8-1076-4e38-896b-8803b7524983')\"\n",
              "            title=\"Suggest charts\"\n",
              "            style=\"display:none;\">\n",
              "\n",
              "<svg xmlns=\"http://www.w3.org/2000/svg\" height=\"24px\"viewBox=\"0 0 24 24\"\n",
              "     width=\"24px\">\n",
              "    <g>\n",
              "        <path d=\"M19 3H5c-1.1 0-2 .9-2 2v14c0 1.1.9 2 2 2h14c1.1 0 2-.9 2-2V5c0-1.1-.9-2-2-2zM9 17H7v-7h2v7zm4 0h-2V7h2v10zm4 0h-2v-4h2v4z\"/>\n",
              "    </g>\n",
              "</svg>\n",
              "  </button>\n",
              "\n",
              "<style>\n",
              "  .colab-df-quickchart {\n",
              "      --bg-color: #E8F0FE;\n",
              "      --fill-color: #1967D2;\n",
              "      --hover-bg-color: #E2EBFA;\n",
              "      --hover-fill-color: #174EA6;\n",
              "      --disabled-fill-color: #AAA;\n",
              "      --disabled-bg-color: #DDD;\n",
              "  }\n",
              "\n",
              "  [theme=dark] .colab-df-quickchart {\n",
              "      --bg-color: #3B4455;\n",
              "      --fill-color: #D2E3FC;\n",
              "      --hover-bg-color: #434B5C;\n",
              "      --hover-fill-color: #FFFFFF;\n",
              "      --disabled-bg-color: #3B4455;\n",
              "      --disabled-fill-color: #666;\n",
              "  }\n",
              "\n",
              "  .colab-df-quickchart {\n",
              "    background-color: var(--bg-color);\n",
              "    border: none;\n",
              "    border-radius: 50%;\n",
              "    cursor: pointer;\n",
              "    display: none;\n",
              "    fill: var(--fill-color);\n",
              "    height: 32px;\n",
              "    padding: 0;\n",
              "    width: 32px;\n",
              "  }\n",
              "\n",
              "  .colab-df-quickchart:hover {\n",
              "    background-color: var(--hover-bg-color);\n",
              "    box-shadow: 0 1px 2px rgba(60, 64, 67, 0.3), 0 1px 3px 1px rgba(60, 64, 67, 0.15);\n",
              "    fill: var(--button-hover-fill-color);\n",
              "  }\n",
              "\n",
              "  .colab-df-quickchart-complete:disabled,\n",
              "  .colab-df-quickchart-complete:disabled:hover {\n",
              "    background-color: var(--disabled-bg-color);\n",
              "    fill: var(--disabled-fill-color);\n",
              "    box-shadow: none;\n",
              "  }\n",
              "\n",
              "  .colab-df-spinner {\n",
              "    border: 2px solid var(--fill-color);\n",
              "    border-color: transparent;\n",
              "    border-bottom-color: var(--fill-color);\n",
              "    animation:\n",
              "      spin 1s steps(1) infinite;\n",
              "  }\n",
              "\n",
              "  @keyframes spin {\n",
              "    0% {\n",
              "      border-color: transparent;\n",
              "      border-bottom-color: var(--fill-color);\n",
              "      border-left-color: var(--fill-color);\n",
              "    }\n",
              "    20% {\n",
              "      border-color: transparent;\n",
              "      border-left-color: var(--fill-color);\n",
              "      border-top-color: var(--fill-color);\n",
              "    }\n",
              "    30% {\n",
              "      border-color: transparent;\n",
              "      border-left-color: var(--fill-color);\n",
              "      border-top-color: var(--fill-color);\n",
              "      border-right-color: var(--fill-color);\n",
              "    }\n",
              "    40% {\n",
              "      border-color: transparent;\n",
              "      border-right-color: var(--fill-color);\n",
              "      border-top-color: var(--fill-color);\n",
              "    }\n",
              "    60% {\n",
              "      border-color: transparent;\n",
              "      border-right-color: var(--fill-color);\n",
              "    }\n",
              "    80% {\n",
              "      border-color: transparent;\n",
              "      border-right-color: var(--fill-color);\n",
              "      border-bottom-color: var(--fill-color);\n",
              "    }\n",
              "    90% {\n",
              "      border-color: transparent;\n",
              "      border-bottom-color: var(--fill-color);\n",
              "    }\n",
              "  }\n",
              "</style>\n",
              "\n",
              "  <script>\n",
              "    async function quickchart(key) {\n",
              "      const quickchartButtonEl =\n",
              "        document.querySelector('#' + key + ' button');\n",
              "      quickchartButtonEl.disabled = true;  // To prevent multiple clicks.\n",
              "      quickchartButtonEl.classList.add('colab-df-spinner');\n",
              "      try {\n",
              "        const charts = await google.colab.kernel.invokeFunction(\n",
              "            'suggestCharts', [key], {});\n",
              "      } catch (error) {\n",
              "        console.error('Error during call to suggestCharts:', error);\n",
              "      }\n",
              "      quickchartButtonEl.classList.remove('colab-df-spinner');\n",
              "      quickchartButtonEl.classList.add('colab-df-quickchart-complete');\n",
              "    }\n",
              "    (() => {\n",
              "      let quickchartButtonEl =\n",
              "        document.querySelector('#df-d036b2f8-1076-4e38-896b-8803b7524983 button');\n",
              "      quickchartButtonEl.style.display =\n",
              "        google.colab.kernel.accessAllowed ? 'block' : 'none';\n",
              "    })();\n",
              "  </script>\n",
              "</div>\n",
              "\n",
              "    </div>\n",
              "  </div>\n"
            ],
            "application/vnd.google.colaboratory.intrinsic+json": {
              "type": "dataframe",
              "variable_name": "dataset_df"
            }
          },
          "metadata": {},
          "execution_count": 2
        }
      ]
    },
    {
      "cell_type": "code",
      "source": [
        "# Cek missing values\n",
        "print(\"\\nMissing values per fitur:\")\n",
        "print(dataset_df.isnull().sum())"
      ],
      "metadata": {
        "colab": {
          "base_uri": "https://localhost:8080/"
        },
        "id": "iPdLLOlEm0jS",
        "outputId": "196e4ac8-10cb-43d8-e579-fc0aa7bb9f11"
      },
      "execution_count": 3,
      "outputs": [
        {
          "output_type": "stream",
          "name": "stdout",
          "text": [
            "\n",
            "Missing values per fitur:\n",
            "TransactionID                  0\n",
            "AccountID                      0\n",
            "TransactionAmount              0\n",
            "Location                       0\n",
            "DeviceID                       0\n",
            "IP Address                     0\n",
            "MerchantID                     0\n",
            "CustomerAge                    0\n",
            "TransactionDuration            0\n",
            "LoginAttempts                  0\n",
            "AccountBalance                 0\n",
            "DayOfWeek                      0\n",
            "Hour                           0\n",
            "Month                          0\n",
            "DaysSinceLastTransaction       0\n",
            "TransactionType_Debit          0\n",
            "Channel_Branch                 0\n",
            "Channel_Online                 0\n",
            "CustomerOccupation_Engineer    0\n",
            "CustomerOccupation_Retired     0\n",
            "CustomerOccupation_Student     0\n",
            "Cluster                        0\n",
            "Cluster_PCA                    0\n",
            "dtype: int64\n"
          ]
        }
      ]
    },
    {
      "cell_type": "code",
      "source": [
        "#check duplikat\n",
        "duplikat = dataset_df.duplicated().sum()\n",
        "print(f\"Number of duplicate rows: {duplikat}\")"
      ],
      "metadata": {
        "colab": {
          "base_uri": "https://localhost:8080/"
        },
        "id": "9puT1HphnKKy",
        "outputId": "9bb71745-640b-4f6d-9bb8-6f1905023d21"
      },
      "execution_count": 4,
      "outputs": [
        {
          "output_type": "stream",
          "name": "stdout",
          "text": [
            "Number of duplicate rows: 0\n"
          ]
        }
      ]
    },
    {
      "cell_type": "code",
      "source": [
        "dataset_df['Cluster'].unique()"
      ],
      "metadata": {
        "colab": {
          "base_uri": "https://localhost:8080/"
        },
        "id": "LXcW6lAX11iA",
        "outputId": "c6119d82-3529-487f-f88b-428ea13ccef2"
      },
      "execution_count": 5,
      "outputs": [
        {
          "output_type": "execute_result",
          "data": {
            "text/plain": [
              "array([1, 0, 2])"
            ]
          },
          "metadata": {},
          "execution_count": 5
        }
      ]
    },
    {
      "cell_type": "markdown",
      "source": [
        "# **3. Data Splitting**"
      ],
      "metadata": {
        "id": "KkPem5eWL2UP"
      }
    },
    {
      "cell_type": "markdown",
      "source": [
        "Tahap Data Splitting bertujuan untuk memisahkan dataset menjadi dua bagian: data latih (training set) dan data uji (test set)."
      ],
      "metadata": {
        "id": "YYj1rl_JNI9Y"
      }
    },
    {
      "cell_type": "code",
      "source": [
        "# Memisahkan fitur X dan target y\n",
        "X = dataset_df[['TransactionAmount', 'CustomerAge', 'TransactionDuration', 'LoginAttempts', 'AccountBalance', 'TransactionType_Debit']]\n",
        "y = dataset_df['Cluster']  # Label cluster sebagai target\n",
        "\n",
        "# Split data menjadi set pelatihan dan set uji\n",
        "X_train, X_test, y_train, y_test = train_test_split(X, y, test_size=0.2, random_state=42)\n",
        "\n",
        "# Scale numerical features\n",
        "scaler = StandardScaler()\n",
        "X_train = scaler.fit_transform(X_train)\n",
        "X_test = scaler.transform(X_test)"
      ],
      "metadata": {
        "id": "OubAW-7ONKVj"
      },
      "execution_count": 6,
      "outputs": []
    },
    {
      "cell_type": "code",
      "source": [
        "# Tampilkan bentuk set pelatihan dan set uji untuk memastikan split\n",
        "print(f\"Training set shape: X_train={X_train.shape}, y_train={y_train.shape}\")\n",
        "print(f\"Test set shape: X_test={X_test.shape}, y_test={y_test.shape}\")\n"
      ],
      "metadata": {
        "id": "raEbg4dOVSXm",
        "outputId": "7efbb3bb-f9f4-473f-e9b2-407e47135278",
        "colab": {
          "base_uri": "https://localhost:8080/"
        }
      },
      "execution_count": 7,
      "outputs": [
        {
          "output_type": "stream",
          "name": "stdout",
          "text": [
            "Training set shape: X_train=(2009, 6), y_train=(2009,)\n",
            "Test set shape: X_test=(503, 6), y_test=(503,)\n"
          ]
        }
      ]
    },
    {
      "cell_type": "code",
      "source": [
        "y_train.value_counts()"
      ],
      "metadata": {
        "colab": {
          "base_uri": "https://localhost:8080/",
          "height": 209
        },
        "id": "bJTT9Hu02B_L",
        "outputId": "0924af7e-5337-414e-d45e-c846b6d02e26"
      },
      "execution_count": 8,
      "outputs": [
        {
          "output_type": "execute_result",
          "data": {
            "text/plain": [
              "Cluster\n",
              "1    1392\n",
              "2     333\n",
              "0     284\n",
              "Name: count, dtype: int64"
            ],
            "text/html": [
              "<div>\n",
              "<style scoped>\n",
              "    .dataframe tbody tr th:only-of-type {\n",
              "        vertical-align: middle;\n",
              "    }\n",
              "\n",
              "    .dataframe tbody tr th {\n",
              "        vertical-align: top;\n",
              "    }\n",
              "\n",
              "    .dataframe thead th {\n",
              "        text-align: right;\n",
              "    }\n",
              "</style>\n",
              "<table border=\"1\" class=\"dataframe\">\n",
              "  <thead>\n",
              "    <tr style=\"text-align: right;\">\n",
              "      <th></th>\n",
              "      <th>count</th>\n",
              "    </tr>\n",
              "    <tr>\n",
              "      <th>Cluster</th>\n",
              "      <th></th>\n",
              "    </tr>\n",
              "  </thead>\n",
              "  <tbody>\n",
              "    <tr>\n",
              "      <th>1</th>\n",
              "      <td>1392</td>\n",
              "    </tr>\n",
              "    <tr>\n",
              "      <th>2</th>\n",
              "      <td>333</td>\n",
              "    </tr>\n",
              "    <tr>\n",
              "      <th>0</th>\n",
              "      <td>284</td>\n",
              "    </tr>\n",
              "  </tbody>\n",
              "</table>\n",
              "</div><br><label><b>dtype:</b> int64</label>"
            ]
          },
          "metadata": {},
          "execution_count": 8
        }
      ]
    },
    {
      "cell_type": "code",
      "source": [
        "y_test.value_counts()"
      ],
      "metadata": {
        "colab": {
          "base_uri": "https://localhost:8080/",
          "height": 209
        },
        "id": "XXGQ9dar2Gx9",
        "outputId": "eb1c2196-34cd-467c-f76a-8ccf70e96d77"
      },
      "execution_count": 9,
      "outputs": [
        {
          "output_type": "execute_result",
          "data": {
            "text/plain": [
              "Cluster\n",
              "1    355\n",
              "0     76\n",
              "2     72\n",
              "Name: count, dtype: int64"
            ],
            "text/html": [
              "<div>\n",
              "<style scoped>\n",
              "    .dataframe tbody tr th:only-of-type {\n",
              "        vertical-align: middle;\n",
              "    }\n",
              "\n",
              "    .dataframe tbody tr th {\n",
              "        vertical-align: top;\n",
              "    }\n",
              "\n",
              "    .dataframe thead th {\n",
              "        text-align: right;\n",
              "    }\n",
              "</style>\n",
              "<table border=\"1\" class=\"dataframe\">\n",
              "  <thead>\n",
              "    <tr style=\"text-align: right;\">\n",
              "      <th></th>\n",
              "      <th>count</th>\n",
              "    </tr>\n",
              "    <tr>\n",
              "      <th>Cluster</th>\n",
              "      <th></th>\n",
              "    </tr>\n",
              "  </thead>\n",
              "  <tbody>\n",
              "    <tr>\n",
              "      <th>1</th>\n",
              "      <td>355</td>\n",
              "    </tr>\n",
              "    <tr>\n",
              "      <th>0</th>\n",
              "      <td>76</td>\n",
              "    </tr>\n",
              "    <tr>\n",
              "      <th>2</th>\n",
              "      <td>72</td>\n",
              "    </tr>\n",
              "  </tbody>\n",
              "</table>\n",
              "</div><br><label><b>dtype:</b> int64</label>"
            ]
          },
          "metadata": {},
          "execution_count": 9
        }
      ]
    },
    {
      "cell_type": "markdown",
      "source": [
        "# **4. Membangun Model Klasifikasi**\n"
      ],
      "metadata": {
        "id": "IVPbB03CMhTT"
      }
    },
    {
      "cell_type": "markdown",
      "source": [
        "## **a. Membangun Model Klasifikasi**"
      ],
      "metadata": {
        "id": "Ned1pL9zMmBK"
      }
    },
    {
      "cell_type": "markdown",
      "source": [
        "Setelah memilih algoritma klasifikasi yang sesuai, langkah selanjutnya adalah melatih model menggunakan data latih.\n",
        "\n",
        "Berikut adalah rekomendasi tahapannya.\n",
        "1. Pilih algoritma klasifikasi yang sesuai, seperti Logistic Regression, Decision Tree, Random Forest, atau K-Nearest Neighbors (KNN).\n",
        "2. Latih model menggunakan data latih."
      ],
      "metadata": {
        "id": "WAWzPOE4Nkti"
      }
    },
    {
      "cell_type": "code",
      "source": [
        "knn = KNeighborsClassifier().fit(X_train, y_train)\n",
        "dcct = DecisionTreeClassifier().fit(X_train, y_train)"
      ],
      "metadata": {
        "id": "4JYxBe87NLDk"
      },
      "execution_count": 10,
      "outputs": []
    },
    {
      "cell_type": "markdown",
      "source": [
        "Penjelasan tentang Algoritma:\n",
        "\n",
        "- K-Nearest Neighbors (KNN) – Mengklasifikasikan berdasarkan mayoritas dari k tetangga terdekat; sederhana tetapi lambat pada dataset besar.\n",
        "- Decision Tree (DT) – Membagi data menjadi cabang-cabang berdasarkan kondisi fitur."
      ],
      "metadata": {
        "id": "seYoHNY3XU1y"
      }
    },
    {
      "cell_type": "markdown",
      "source": [
        "## **b. Evaluasi Model Klasifikasi**"
      ],
      "metadata": {
        "id": "ergzChZFEL-O"
      }
    },
    {
      "cell_type": "markdown",
      "source": [
        "Berikut adalah **rekomendasi** tahapannya.\n",
        "1. Lakukan prediksi menggunakan data uji.\n",
        "2. Hitung metrik evaluasi seperti Accuracy dan F1-Score (Opsional: Precision dan Recall).\n",
        "3. Buat confusion matrix untuk melihat detail prediksi benar dan salah."
      ],
      "metadata": {
        "id": "zOm68u-7NpLT"
      }
    },
    {
      "cell_type": "code",
      "source": [
        "# pembuatan function untuk evaluasi model\n",
        "def evaluasi_model(model, X_test, nama_model, y_test):\n",
        "    # Membuat Prediksi\n",
        "    y_pred = model.predict(X_test)\n",
        "\n",
        "    # Menghitung metrik evaluasi\n",
        "    akurasi_s = accuracy_score(y_test, y_pred)\n",
        "    precision_s = precision_score(y_test, y_pred, average='weighted')\n",
        "    recall_s = recall_score(y_test, y_pred, average='weighted')\n",
        "    f1_s = f1_score(y_test, y_pred, average='weighted')\n",
        "\n",
        "\n",
        "    # Menampilkan hasil dari evaluasi\n",
        "    print(f\"---= Evaluasi Model {nama_model} =---\\n\")\n",
        "    print(f\"Akurasi   : {akurasi_s:.2f}\")\n",
        "    print(f\"Precision : {precision_s:.2f}\")\n",
        "    print(f\"Recall    : {recall_s:.2f}\")\n",
        "    print(f\"F1-Score  : {f1_s:.2f}\\n\")\n",
        "\n",
        "\n",
        "\n",
        "    # Menampilkan laporan Klasifikasi\n",
        "    print(f\"\\nLaporan Klasifikasi Model {nama_model}:\")\n",
        "    print(classification_report(y_test, y_pred))\n",
        "\n",
        "\n",
        "\n",
        "# Membuat function Plot heatmap Confusion Matrix\n",
        "def heatMap_Confusion_Matrix(model, nama_model , X_test, y_test):\n",
        "    y_pred = model.predict(X_test)\n",
        "\n",
        "    confusion_mat = confusion_matrix(y_test, y_pred)\n",
        "    plt.figure(figsize=(6,5))\n",
        "    sns.heatmap(confusion_mat, annot=True, fmt=\"d\", cmap=\"Greens\", xticklabels=set(y_test), yticklabels=set(y_test))\n",
        "    plt.xlabel(\"Label Prediksi \")\n",
        "    plt.ylabel(\"Label Asli\")\n",
        "    plt.title(f\"Confusion Matrix Model - {nama_model}\")\n",
        "    plt.show()"
      ],
      "metadata": {
        "id": "-xU_B1QzwhmU"
      },
      "execution_count": 11,
      "outputs": []
    },
    {
      "cell_type": "code",
      "source": [
        "# evaluasi untuk model KNN\n",
        "evaluasi_model(knn, X_test, \"KNN\", y_test)"
      ],
      "metadata": {
        "colab": {
          "base_uri": "https://localhost:8080/"
        },
        "id": "0UxEOO4AxiFE",
        "outputId": "8a64415d-e34c-42c1-94ef-fb36bcb2fce3"
      },
      "execution_count": 12,
      "outputs": [
        {
          "output_type": "stream",
          "name": "stdout",
          "text": [
            "---= Evaluasi Model KNN =---\n",
            "\n",
            "Akurasi   : 0.97\n",
            "Precision : 0.98\n",
            "Recall    : 0.97\n",
            "F1-Score  : 0.97\n",
            "\n",
            "\n",
            "Laporan Klasifikasi Model KNN:\n",
            "              precision    recall  f1-score   support\n",
            "\n",
            "           0       1.00      0.83      0.91        76\n",
            "           1       0.99      1.00      0.99       355\n",
            "           2       0.90      1.00      0.95        72\n",
            "\n",
            "    accuracy                           0.97       503\n",
            "   macro avg       0.96      0.94      0.95       503\n",
            "weighted avg       0.98      0.97      0.97       503\n",
            "\n"
          ]
        }
      ]
    },
    {
      "cell_type": "code",
      "source": [
        "heatMap_Confusion_Matrix(knn, \"KNN\", X_test, y_test)"
      ],
      "metadata": {
        "colab": {
          "base_uri": "https://localhost:8080/",
          "height": 487
        },
        "id": "JnyDFp70PgoQ",
        "outputId": "e5db6097-a33c-4375-9de5-6de6fb093fd1"
      },
      "execution_count": 13,
      "outputs": [
        {
          "output_type": "display_data",
          "data": {
            "text/plain": [
              "<Figure size 600x500 with 2 Axes>"
            ],
            "image/png": "[encoded data removed]"
          },
          "metadata": {}
        }
      ]
    },
    {
      "cell_type": "code",
      "source": [
        "# evaluasi untuk model decicion tree\n",
        "evaluasi_model(dcct, X_test, \"decicion tree\", y_test)"
      ],
      "metadata": {
        "colab": {
          "base_uri": "https://localhost:8080/"
        },
        "id": "07I5-SjWxjKH",
        "outputId": "4f226645-9754-4e89-f839-9705fc8f7a63"
      },
      "execution_count": 14,
      "outputs": [
        {
          "output_type": "stream",
          "name": "stdout",
          "text": [
            "---= Evaluasi Model decicion tree =---\n",
            "\n",
            "Akurasi   : 0.97\n",
            "Precision : 0.97\n",
            "Recall    : 0.97\n",
            "F1-Score  : 0.97\n",
            "\n",
            "\n",
            "Laporan Klasifikasi Model decicion tree:\n",
            "              precision    recall  f1-score   support\n",
            "\n",
            "           0       0.92      0.91      0.91        76\n",
            "           1       0.99      0.99      0.99       355\n",
            "           2       0.95      0.96      0.95        72\n",
            "\n",
            "    accuracy                           0.97       503\n",
            "   macro avg       0.95      0.95      0.95       503\n",
            "weighted avg       0.97      0.97      0.97       503\n",
            "\n"
          ]
        }
      ]
    },
    {
      "cell_type": "code",
      "source": [
        "heatMap_Confusion_Matrix(dcct, \"decicion tree\", X_test, y_test)"
      ],
      "metadata": {
        "colab": {
          "base_uri": "https://localhost:8080/",
          "height": 487
        },
        "id": "QQ5uLye1PzhL",
        "outputId": "7bc07738-afe0-4d35-ae82-bd444642eeee"
      },
      "execution_count": 15,
      "outputs": [
        {
          "output_type": "display_data",
          "data": {
            "text/plain": [
              "<Figure size 600x500 with 2 Axes>"
            ],
            "image/png": "[encoded data removed]"
          },
          "metadata": {}
        }
      ]
    },
    {
      "cell_type": "markdown",
      "source": [
        "Tulis hasil evaluasi algoritma yang digunakan, jika Anda menggunakan 2 algoritma, maka bandingkan hasilnya."
      ],
      "metadata": {
        "id": "H4_9OwrsXZlz"
      }
    },
    {
      "cell_type": "markdown",
      "source": [
        "## **Evaluasi Model Klasifikasi**\n",
        "\n",
        "### **1. K-Nearest Neighbors (KNN)**\n",
        "- **Akurasi**: 97%  \n",
        "- **Precision**: Semua metrik bernilai **0.99** untuk  kelas 1 sedangkan kelas 0 bernilai **1** dan kelas 2 bernilai 0.9.  \n",
        "- **Recall** : metrik kelas 0 bernilai **0.83** untuk kelas 1 dan 2 bernilai **1**\n",
        "- **F1-score** : metrik kelas 1 bernilai **0.99** untuk kelas 0 bernilai **0.91** sedangkan kelas 2 nilainya 0.95.\n",
        "\n",
        "### **2. Decicion Tree**\n",
        "- **Akurasi**: 97%  \n",
        "- **Precision, Recall, F1-score**: Semua metrik bernilai **0.99** untuk  Metrik kelas 1 sedangkan kelas 2 semua bernilai **0.93** dan **0.94** dan kelas 0 bernilai 0.92 dan 0.91.\n",
        "\n",
        "---\n",
        "\n",
        "## **Perbandingan Model**\n",
        "\n",
        "| Model                | Akurasi | Precision | Recall | F1-score |\n",
        "|----------------------|---------|-----------|--------|----------|\n",
        "| KNN                 | 97%   | 0.98            | 0.97         | 0.97    |\n",
        "| Decicion Tree       | 97%   | 0.97      | 0.97   | 0.97    |\n",
        "\n",
        "---"
      ],
      "metadata": {
        "id": "HooAiFun-ti6"
      }
    },
    {
      "cell_type": "markdown",
      "source": [
        "## **c. Tuning Model Klasifikasi (Optional)**"
      ],
      "metadata": {
        "id": "9B1L7FT7XOQ6"
      }
    },
    {
      "cell_type": "markdown",
      "source": [
        "## **d. Evaluasi Model Klasifikasi setelah Tuning (Optional)**"
      ],
      "metadata": {
        "id": "rHZx7CPLXPne"
      }
    },
    {
      "cell_type": "markdown",
      "source": [
        "## **e. Analisis Hasil Evaluasi Model Klasifikasi**"
      ],
      "metadata": {
        "id": "ZRsOdm4uEgAW"
      }
    },
    {
      "cell_type": "markdown",
      "source": [
        "Berikut adalah **rekomendasi** tahapannya.\n",
        "1. Bandingkan hasil evaluasi sebelum dan setelah tuning (jika dilakukan).\n",
        "2. Identifikasi kelemahan model, seperti:\n",
        "  - Precision atau Recall rendah untuk kelas tertentu.\n",
        "  - Apakah model mengalami overfitting atau underfitting?\n",
        "3. Berikan rekomendasi tindakan lanjutan, seperti mengumpulkan data tambahan atau mencoba algoritma lain jika hasil belum memuaskan."
      ],
      "metadata": {
        "id": "Hm3BhSi6N4_l"
      }
    },
    {
      "cell_type": "markdown",
      "source": [
        "### **1. Hasil evaluasi Model Klasifikasi**\n",
        "Membandingkan Model Klasifikasi **K-Nearest Neighbors (KNN)** dan **Decicion tree**, berikut hasil evaluasi model:\n",
        "\n",
        "| Model                | Akurasi | Precision | Recall | F1-score |\n",
        "|----------------------|---------|-----------|--------|----------|\n",
        "| KNN                 | 99%   | 0.98            | 0.97         | 0.97    |\n",
        "| Decicion Tree       | 97%   | 0.97      | 0.97   | 0.97    |\n",
        "\n",
        "---\n",
        "\n",
        "####**1. K-Nearest Neighbors (KNN)**\n",
        "- **Akurasi**: 97%  \n",
        "- **Precision**: Semua metrik bernilai **0.99** untuk  kelas 1 sedangkan kelas 0 bernilai **1** dan kelas 2 bernilai 0.9.  \n",
        "- **Recall** : metrik kelas 0 bernilai **0.83** untuk kelas 1 dan 2 bernilai **1**\n",
        "- **F1-score** : metrik kelas 1 bernilai **0.99** untuk kelas 0 bernilai **0.91** sedangkan kelas 2 nilainya 0.95.\n",
        "\n",
        "**Kesimpulan:**  \n",
        "- **KNN memiliki performa yang baik**, dengan akurasi **97%** dan F1-score **97%**.  \n",
        "\n",
        "\n",
        "####**2. Decicion Tree**\n",
        "- **Akurasi**: 97%  \n",
        "- **Precision, Recall, F1-score**: Semua metrik bernilai **0.99** untuk  Metrik kelas 1 sedangkan kelas 2 semua bernilai **0.94** dan kelas 0 bernilai 0.92 dan 0.91.\n",
        "\n",
        "**Kesimpulan:**  \n",
        "- **Decicion tree memiliki akurasi sama tinggi 97%**  dan F1-score **97%**. hanya saja untuk presisinya sedikit lebih rendah 97% di banding KNN yang bernilai 98%\n",
        "\n",
        "  \n",
        "\n",
        "\n",
        "---\n",
        "\n",
        "### **2️ Apakah Model Mengalami Overfitting atau Underfitting?**\n",
        "- **KNN**   \n",
        "  - model ini menunjukkan tanda **overfitting** di karenakan evaluasinya mendapatkan nilai tinggi hampir sempurna yaitu di 97% yang tidak wajar umumnya.  \n",
        "\n",
        "- **Decicion tree**  \n",
        "  - model ini menunjukkan tanda **overfitting** di karenakan evaluasinya mendapatkan nilai tinggi hampir sempurna di 97% yang tidak wajar umumnya.  \n",
        "\n",
        "---\n",
        "\n",
        "### **3. Rekomendasi Tindakan Lanjutan**\n",
        "\n",
        "1. Tindakan untuk KNN:\n",
        "  - melakukan Tuning Model Klasifikasi\n",
        "  - Menggunakan teknik cross-validation untuk mengevaluasi model secara lebih akurat dan menghindari overfitting.\n",
        "  - menormalisasi data agar jarak antar titik data tidak dipengaruhi oleh skala fitur yang berbeda.\n",
        "\n",
        "2. Tindakan untuk Decision Tree:\n",
        "  - melakukan Tuning Model Klasifikasi\n",
        "  - melakukan teknik pruning untuk mengurangi kompleksitas pohon .\n",
        "  - Batasi kedalaman maksimum pohon untuk mencegah model menjadi terlalu kompleks.\n",
        "  - Gunakan metode ensemble seperti Random Forest atau Gradient Boosting untuk meningkatkan akurasi dan stabilitas model.\n",
        "\n",
        "3. Tindakan Lainnya:\n",
        "  - Menguji Model dengan Data Tambahan atau Data Lain\n",
        "  - Mencoba Algoritma Lain atau Teknik Regularisasi Lainnya\n",
        "  - Melakukan feature selection pada data"
      ],
      "metadata": {
        "id": "RC11qplB45XM"
      }
    }
  ]
}